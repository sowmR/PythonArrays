{
  "nbformat": 4,
  "nbformat_minor": 0,
  "metadata": {
    "colab": {
      "name": "Untitled2.ipynb",
      "provenance": [],
      "collapsed_sections": [],
      "authorship_tag": "ABX9TyNnekQh+JDLmPaVtGzAhsK6",
      "include_colab_link": true
    },
    "kernelspec": {
      "name": "python3",
      "display_name": "Python 3"
    },
    "language_info": {
      "name": "python"
    }
  },
  "cells": [
    {
      "cell_type": "markdown",
      "metadata": {
        "id": "view-in-github",
        "colab_type": "text"
      },
      "source": [
        "<a href=\"https://colab.research.google.com/github/sowmR/Python_ArraysStrings/blob/main/String_problem_2.ipynb\" target=\"_parent\"><img src=\"https://colab.research.google.com/assets/colab-badge.svg\" alt=\"Open In Colab\"/></a>"
      ]
    },
    {
      "cell_type": "markdown",
      "source": [
        "# Strings: String segmentation\n",
        "\n",
        "You are given a dictionary of words and a large input string. You have to find out whether the input string can be completely segmented into the words of a given dictionary.\n",
        "\n",
        "example:\n",
        "\n",
        "word_dict = ['apple','apple','pear','pie']\n",
        "\n",
        "input_str = 'applepie'\n",
        "\n",
        "output = True \n",
        "\n",
        "since apple, pie are in the list\n",
        "\n",
        "input_str = 'applepeer'\n",
        "\n",
        "output = False\n",
        "\n",
        "Since 'peer' is not in the list."
      ],
      "metadata": {
        "id": "oo4UkOFtD-6i"
      }
    },
    {
      "cell_type": "code",
      "source": [
        "\n",
        "strDict=[\"Hello\",\"on\",\"now\", \"World\",\"Trying\",\"reverse\",\"i\",\"am\",\"bom\"]\n",
        "tests = [\n",
        "         \"HelloWorldHello\",\n",
        "         \"hellonow\",\n",
        "         \"Tryingtoreverse\",\n",
        "         \"iambob\"\n",
        "]"
      ],
      "metadata": {
        "id": "sAsCEbiht_tb"
      },
      "execution_count": 1,
      "outputs": []
    },
    {
      "cell_type": "code",
      "execution_count": 2,
      "metadata": {
        "colab": {
          "base_uri": "https://localhost:8080/"
        },
        "id": "48XG727OD8uq",
        "outputId": "862dfb47-70ca-47c9-9005-1f927cdc3824"
      },
      "outputs": [
        {
          "output_type": "stream",
          "name": "stdout",
          "text": [
            "True\n",
            "False\n"
          ]
        }
      ],
      "source": [
        "def canSegement(string, strArray=[]):\n",
        "  # can this string be segmented into two words in the list. \n",
        "  if len(strArray)==0:\n",
        "    return False\n",
        "  _string = string\n",
        "  result = []\n",
        "  tmp = ''\n",
        "  for i in range(1, len(_string)):\n",
        "    tmp = _string[:i]\n",
        "    if tmp in strArray:\n",
        "      result.append(tmp)\n",
        "      _string = _string[i:]\n",
        "  return len(_string)==0\n",
        "\n",
        "\n",
        "\n",
        "print(canSegement(\"HelloWorld\", strDict))\n",
        "print(canSegement(\"HelloWorldHello\", strDict))"
      ]
    },
    {
      "cell_type": "code",
      "source": [
        "# can segment into multiple words in the list\n",
        "\n",
        "def segmentWords(string, strArray=[]):\n",
        "  N = len(strArray)\n",
        "  n = 0\n",
        "  results = []\n",
        "  fSegment = ''\n",
        "  sSegment =string\n",
        "  while len(sSegment)>0:\n",
        "    print(sSegment)\n",
        "    for s in range(1,len(sSegment)):\n",
        "      fSegment = sSegment[:s]\n",
        "      if fSegment in strArray:\n",
        "        results.append(fSegment)\n",
        "        fSegment=''\n",
        "        sSegment = sSegment[s:]\n",
        "        \n",
        "  print(\"results = \", results)\n",
        "  return fSegment==''\n",
        "print(segmentWords(\"HelloWorldHello\", strDict))"
      ],
      "metadata": {
        "colab": {
          "base_uri": "https://localhost:8080/"
        },
        "id": "mZwJ1AfhTgYO",
        "outputId": "a7a775af-d04d-4062-dcce-d5b0d0f44edd"
      },
      "execution_count": 3,
      "outputs": [
        {
          "output_type": "stream",
          "name": "stdout",
          "text": [
            "HelloWorldHello\n",
            "WorldHello\n",
            "results =  ['Hello', 'World', 'Hello']\n",
            "True\n"
          ]
        }
      ]
    },
    {
      "cell_type": "code",
      "source": [
        "# can segment into multiple words in the list with out repeat\n",
        "\n",
        "def segmentWordsnoRepeat(string, strArray=[]):\n",
        "  N = len(strArray)\n",
        "  n = 0\n",
        "  results = []\n",
        "  fSegment = ''\n",
        "  sSegment =string\n",
        "  while len(sSegment)>0:\n",
        "    tmp = sSegment\n",
        "    for s in range(1,len(sSegment)):\n",
        "      fSegment = sSegment[:s]\n",
        "      tmp = sSegment[s:]\n",
        "      if fSegment in strArray:\n",
        "        results.append(fSegment)\n",
        "        _i =-1\n",
        "        try:\n",
        "          _i = strArray.index(fSegment)\n",
        "        except:\n",
        "          _i=-1\n",
        "        print(_i)\n",
        "        if _i>-1:\n",
        "          strArray.pop(_i)\n",
        "          print(strArray)\n",
        "        fSegment=''\n",
        "        sSegment = tmp\n",
        "    if len(tmp)==0:\n",
        "      sSegment=tmp\n",
        "    \n",
        "        \n",
        "  print(\"results = \", results)\n",
        "  return fSegment==''\n",
        "print(segmentWordsnoRepeat(\"HelloWorldHello\", strDict))"
      ],
      "metadata": {
        "colab": {
          "base_uri": "https://localhost:8080/"
        },
        "id": "hSJ2t1BdwS0-",
        "outputId": "3cef77ef-1ed0-401d-a16a-8276387159a5"
      },
      "execution_count": 2,
      "outputs": [
        {
          "output_type": "stream",
          "name": "stdout",
          "text": [
            "0\n",
            "['on', 'now', 'World', 'Trying', 'reverse', 'i', 'am', 'bom']\n",
            "results =  ['Hello']\n",
            "False\n"
          ]
        }
      ]
    },
    {
      "cell_type": "code",
      "source": [
        ""
      ],
      "metadata": {
        "id": "YMN_YQeDzbic"
      },
      "execution_count": 4,
      "outputs": []
    }
  ]
}