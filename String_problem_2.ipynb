{
  "nbformat": 4,
  "nbformat_minor": 0,
  "metadata": {
    "colab": {
      "name": "Untitled2.ipynb",
      "provenance": [],
      "collapsed_sections": [],
      "authorship_tag": "ABX9TyPPapaqBV51M5lPk8Yzb4UB",
      "include_colab_link": true
    },
    "kernelspec": {
      "name": "python3",
      "display_name": "Python 3"
    },
    "language_info": {
      "name": "python"
    }
  },
  "cells": [
    {
      "cell_type": "markdown",
      "metadata": {
        "id": "view-in-github",
        "colab_type": "text"
      },
      "source": [
        "<a href=\"https://colab.research.google.com/github/sowmR/Python_ArraysStrings/blob/main/String_problem_2.ipynb\" target=\"_parent\"><img src=\"https://colab.research.google.com/assets/colab-badge.svg\" alt=\"Open In Colab\"/></a>"
      ]
    },
    {
      "cell_type": "markdown",
      "source": [
        "# Strings: String segmentation\n",
        "\n",
        "You are given a dictionary of words and a large input string. You have to find out whether the input string can be completely segmented into the words of a given dictionary.\n",
        "\n",
        "example:\n",
        "\n",
        "word_dict = ['apple','apple','pear','pie']\n",
        "\n",
        "input_str = 'applepie'\n",
        "\n",
        "output = True \n",
        "\n",
        "since apple, pie are in the list\n",
        "\n",
        "input_str = 'applepeer'\n",
        "\n",
        "output = False\n",
        "\n",
        "Since 'peer' is not in the list."
      ],
      "metadata": {
        "id": "oo4UkOFtD-6i"
      }
    },
    {
      "cell_type": "code",
      "execution_count": 36,
      "metadata": {
        "colab": {
          "base_uri": "https://localhost:8080/"
        },
        "id": "48XG727OD8uq",
        "outputId": "2db2127f-d257-45d0-88c5-50ab64ad88a7"
      },
      "outputs": [
        {
          "output_type": "stream",
          "name": "stdout",
          "text": [
            "['Hello', 'now']\n"
          ]
        },
        {
          "output_type": "execute_result",
          "data": {
            "text/plain": [
              "True"
            ]
          },
          "metadata": {},
          "execution_count": 36
        }
      ],
      "source": [
        "def canSegement(string, strArray=[]):\n",
        "  if len(strArray)==0:\n",
        "    return False\n",
        "  _string = string\n",
        "  _N = len(strArray)\n",
        "  result =[]\n",
        "  noMatch = False\n",
        "  while noMatch == False:\n",
        "    n = 0\n",
        "    for s in strArray:\n",
        "      _idx =_string.find(s)\n",
        "      if _idx==-1:\n",
        "        n+=1\n",
        "      else:\n",
        "        result.append(s)\n",
        "        _string = _string.replace(s,'',1)\n",
        "    if _N==n or len(_string)==0:\n",
        "      noMatch = True\n",
        "  if len(_string)>0:\n",
        "    return False\n",
        "  else:\n",
        "    print(result)\n",
        "    return True\n",
        "\n",
        "\n",
        "strDict=[\"Hello\",\"on\",\"now\", \"World\",\"Trying\",\"reverse\",\"i\",\"am\",\"bom\"]\n",
        "tests = [\n",
        "         \"HelloWorldHello\",\n",
        "         \"hellonow\",\n",
        "         \"Tryingtoreverse\",\n",
        "         \"iambob\"\n",
        "]\n",
        "\n",
        "canSegement(\"Hellonow\", strDict)"
      ]
    },
    {
      "cell_type": "code",
      "source": [
        ""
      ],
      "metadata": {
        "id": "mZwJ1AfhTgYO"
      },
      "execution_count": null,
      "outputs": []
    }
  ]
}