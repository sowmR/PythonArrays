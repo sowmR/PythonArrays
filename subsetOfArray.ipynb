{
  "nbformat": 4,
  "nbformat_minor": 0,
  "metadata": {
    "colab": {
      "name": "Untitled2.ipynb",
      "provenance": [],
      "collapsed_sections": [],
      "authorship_tag": "ABX9TyNkRgJpVp2rzcP7ZN9XBWcg",
      "include_colab_link": true
    },
    "kernelspec": {
      "name": "python3",
      "display_name": "Python 3"
    },
    "language_info": {
      "name": "python"
    }
  },
  "cells": [
    {
      "cell_type": "markdown",
      "metadata": {
        "id": "view-in-github",
        "colab_type": "text"
      },
      "source": [
        "<a href=\"https://colab.research.google.com/github/sowmR/Python_ArraysStrings/blob/main/subsetOfArray.ipynb\" target=\"_parent\"><img src=\"https://colab.research.google.com/assets/colab-badge.svg\" alt=\"Open In Colab\"/></a>"
      ]
    },
    {
      "cell_type": "markdown",
      "source": [
        "# set: find all subset of a list of Integers"
      ],
      "metadata": {
        "id": "oo4UkOFtD-6i"
      }
    },
    {
      "cell_type": "markdown",
      "source": [
        "clue:\n",
        "\n",
        "n = number of elements in a set\n",
        "\n",
        "number of possible subsets = 2**n\n"
      ],
      "metadata": {
        "id": "qyaTExFI3IJj"
      }
    },
    {
      "cell_type": "code",
      "source": [
        "# return the set using the python library\n",
        "import itertools\n",
        " \n",
        "def findsubsets(s, n):\n",
        "    return list(itertools.combinations(s, n))\n",
        "\n",
        "s = {1, 2, 3,4}\n",
        "n = 2\n",
        "\n",
        "for i in range(len(s)):\n",
        "  print(findsubsets(s,i+1))"
      ],
      "metadata": {
        "colab": {
          "base_uri": "https://localhost:8080/"
        },
        "id": "sAsCEbiht_tb",
        "outputId": "097d327a-dbc3-41a8-8224-59a20eeaa3bc"
      },
      "execution_count": 8,
      "outputs": [
        {
          "output_type": "stream",
          "name": "stdout",
          "text": [
            "[(1,), (2,), (3,), (4,)]\n",
            "[(1, 2), (1, 3), (1, 4), (2, 3), (2, 4), (3, 4)]\n",
            "[(1, 2, 3), (1, 2, 4), (1, 3, 4), (2, 3, 4)]\n",
            "[(1, 2, 3, 4)]\n"
          ]
        }
      ]
    },
    {
      "cell_type": "code",
      "source": [
        "# lets code our own\n",
        "def getSubSet(s=[],n=0):\n",
        "  result = []\n",
        "  if n == 0:\n",
        "    return [{i} for i in s]\n",
        "  for i in range(len(s)-n):\n",
        "    for j in range(i+1, len(s)-n+1):\n",
        "      tmp =[]\n",
        "      tmp.append(s[i])\n",
        "      for n1 in range(n):\n",
        "        tmp.append(s[j+n1])\n",
        "      result.append(set(tmp))\n",
        "  return result\n",
        "\n",
        "s = {1, 2, 3,4,5}\n",
        "n = len(s)\n",
        "print([])\n",
        "for i in range(n):\n",
        "  print(getSubSet(list(s),i))\n"
      ],
      "metadata": {
        "colab": {
          "base_uri": "https://localhost:8080/"
        },
        "id": "YMN_YQeDzbic",
        "outputId": "2fa97584-01b6-45b1-d806-13327401c5c2"
      },
      "execution_count": 48,
      "outputs": [
        {
          "output_type": "stream",
          "name": "stdout",
          "text": [
            "[]\n",
            "[{1}, {2}, {3}, {4}, {5}]\n",
            "[{1, 2}, {1, 3}, {1, 4}, {1, 5}, {2, 3}, {2, 4}, {2, 5}, {3, 4}, {3, 5}, {4, 5}]\n",
            "[{1, 2, 3}, {1, 3, 4}, {1, 4, 5}, {2, 3, 4}, {2, 4, 5}, {3, 4, 5}]\n",
            "[{1, 2, 3, 4}, {1, 3, 4, 5}, {2, 3, 4, 5}]\n",
            "[{1, 2, 3, 4, 5}]\n"
          ]
        }
      ]
    },
    {
      "cell_type": "code",
      "source": [
        ""
      ],
      "metadata": {
        "id": "3KTPytze9k5Z"
      },
      "execution_count": null,
      "outputs": []
    }
  ]
}