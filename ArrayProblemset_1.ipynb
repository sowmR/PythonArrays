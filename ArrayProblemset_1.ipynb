{
  "nbformat": 4,
  "nbformat_minor": 0,
  "metadata": {
    "colab": {
      "name": "Untitled1.ipynb",
      "provenance": [],
      "collapsed_sections": [],
      "authorship_tag": "ABX9TyNFXX+X6sp9hfVZFglXgC3A",
      "include_colab_link": true
    },
    "kernelspec": {
      "name": "python3",
      "display_name": "Python 3"
    },
    "language_info": {
      "name": "python"
    }
  },
  "cells": [
    {
      "cell_type": "markdown",
      "metadata": {
        "id": "view-in-github",
        "colab_type": "text"
      },
      "source": [
        "<a href=\"https://colab.research.google.com/github/sowmR/Python_ArraysStrings/blob/main/ArrayProblemset_1.ipynb\" target=\"_parent\"><img src=\"https://colab.research.google.com/assets/colab-badge.svg\" alt=\"Open In Colab\"/></a>"
      ]
    },
    {
      "cell_type": "markdown",
      "source": [
        "# Arrays - move zeros to the left\n",
        "\n",
        "Given an integer array, move all elements that are 0 to the left while maintaining the order of other elements in the array. The array has to be modified in-place"
      ],
      "metadata": {
        "id": "L9iQYsFd7oyE"
      }
    },
    {
      "cell_type": "code",
      "execution_count": 6,
      "metadata": {
        "colab": {
          "base_uri": "https://localhost:8080/"
        },
        "id": "tVpC3hya7gpW",
        "outputId": "4dd2bd95-fa70-4ac5-83ef-0e792678f3a9"
      },
      "outputs": [
        {
          "output_type": "stream",
          "name": "stdout",
          "text": [
            "[0, 0, 0, 1, 10, 20, 59, 63, 88]\n",
            "[0, 0, 0, 1, 3, 6, 8]\n",
            "[]\n",
            "[1, 4, 5, 6, 7, 8, 9]\n"
          ]
        }
      ],
      "source": [
        "def move_zero(intArray):\n",
        "  if len(intArray)<1:\n",
        "    return intArray\n",
        "  resultingArr = []\n",
        "  nonZero = []\n",
        "  for i in intArray:\n",
        "    if i==0:\n",
        "     resultingArr.append(i)\n",
        "    else:\n",
        "      nonZero.append(i)\n",
        "  resultingArr.extend(nonZero)\n",
        "  return resultingArr\n",
        "\n",
        "tests = [\n",
        "         [1,10,20,0,59,63,0,88,0],\n",
        "         [1,3,0,6,0,8,0],\n",
        "         [],\n",
        "         [1,4,5,6,7,8,9]\n",
        "         ]\n",
        "for test in tests:\n",
        "  print(move_zero(test))"
      ]
    },
    {
      "cell_type": "markdown",
      "source": [
        "# Arrays: merge overlapping intervals\n",
        "\n",
        "You are given an array (list) of interval pairs as input where each interval has a start and end timestamp. The input array is sorted by starting timestamps. You are required to merge overlapping intervals and return a new output array."
      ],
      "metadata": {
        "id": "TPn-FQqf_jMS"
      }
    },
    {
      "cell_type": "code",
      "source": [
        "class Pair:\n",
        "  def __init__(self, first, second):\n",
        "    self.first = first\n",
        "    self.second = second\n",
        "\n",
        "def merge_intervals(v):\n",
        "  if v == None or len(v) == 0 :\n",
        "    return None\n",
        "\n",
        "  result = []\n",
        "  result.append(Pair(v[0].first, v[0].second))\n",
        "\n",
        "  for i in range(1, len(v)):\n",
        "    x1 = v[i].first\n",
        "    y1 = v[i].second\n",
        "    x2 = result[len(result) - 1].first\n",
        "    y2 = result[len(result) - 1].second\n",
        "\n",
        "    if y2 >= x1:\n",
        "      result[len(result) - 1].second = max(y1, y2)\n",
        "    else:\n",
        "      result.append(Pair(x1, y1))\n",
        "\n",
        "  return result;\n",
        "\n",
        "v = [Pair(1, 5), Pair(3, 1), Pair(4, 6), \n",
        "     Pair(6, 8), Pair(10, 12), Pair(11, 15)]\n",
        "\n",
        "result = merge_intervals(v)\n",
        "\n",
        "for i in range(len(result)):\n",
        "  print(\"[\" + str(result[i].first) + \", \" + str(result[i].second) + \"]\", end =\" \")"
      ],
      "metadata": {
        "colab": {
          "base_uri": "https://localhost:8080/"
        },
        "id": "Od4lHdWLCKPG",
        "outputId": "c08d01d1-5e08-46a0-da37-dc30dc8def21"
      },
      "execution_count": 7,
      "outputs": [
        {
          "output_type": "stream",
          "name": "stdout",
          "text": [
            "[1, 8] [10, 15] "
          ]
        }
      ]
    },
    {
      "cell_type": "code",
      "source": [
        ""
      ],
      "metadata": {
        "id": "Od-5FNiZCHio"
      },
      "execution_count": null,
      "outputs": []
    }
  ]
}