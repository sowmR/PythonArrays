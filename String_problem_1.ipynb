{
  "nbformat": 4,
  "nbformat_minor": 0,
  "metadata": {
    "colab": {
      "name": "Untitled2.ipynb",
      "provenance": [],
      "collapsed_sections": [],
      "authorship_tag": "ABX9TyMFA6rNGaDHolBY9raFB7V7",
      "include_colab_link": true
    },
    "kernelspec": {
      "name": "python3",
      "display_name": "Python 3"
    },
    "language_info": {
      "name": "python"
    }
  },
  "cells": [
    {
      "cell_type": "markdown",
      "metadata": {
        "id": "view-in-github",
        "colab_type": "text"
      },
      "source": [
        "<a href=\"https://colab.research.google.com/github/sowmR/Python_ArraysStrings/blob/main/String_problem_1.ipynb\" target=\"_parent\"><img src=\"https://colab.research.google.com/assets/colab-badge.svg\" alt=\"Open In Colab\"/></a>"
      ]
    },
    {
      "cell_type": "markdown",
      "source": [
        "# Strings: Reverse words in a sentence\n",
        "\n",
        "Reverse the order of words in a given sentence (an array of characters)\n",
        "\n",
        "Traverse the string and reverse each word in place."
      ],
      "metadata": {
        "id": "oo4UkOFtD-6i"
      }
    },
    {
      "cell_type": "code",
      "execution_count": 23,
      "metadata": {
        "colab": {
          "base_uri": "https://localhost:8080/"
        },
        "id": "48XG727OD8uq",
        "outputId": "cefd8024-0a0e-4d89-bf86-9c5464fa964e"
      },
      "outputs": [
        {
          "output_type": "stream",
          "name": "stdout",
          "text": [
            "olleH dlroW\n",
            "gniyrT ot esrever\n",
            "i ma bob\n"
          ]
        }
      ],
      "source": [
        "def reverseString(word):\n",
        "  _word = list(word)\n",
        "  revWord = []\n",
        "  for i in range(len(_word)-1,-1,-1):\n",
        "    revWord.append(_word[i])\n",
        "  return ('').join(revWord)\n",
        "\n",
        "def reverse_words(sentence):\n",
        "  words = sentence.split(' ')\n",
        "  result = []\n",
        "  for word in words:\n",
        "    result.append(reverseString(word))\n",
        "  return (' ').join(result)\n",
        "\n",
        "tests = [\n",
        "         \"Hello World\",\n",
        "         \"Trying to reverse\",\n",
        "         \"i am bob\"\n",
        "]\n",
        "\n",
        "for test in tests:\n",
        "  print(reverse_words(test))"
      ]
    },
    {
      "cell_type": "code",
      "source": [
        ""
      ],
      "metadata": {
        "id": "mZwJ1AfhTgYO"
      },
      "execution_count": null,
      "outputs": []
    }
  ]
}