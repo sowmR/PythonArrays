{
  "nbformat": 4,
  "nbformat_minor": 0,
  "metadata": {
    "colab": {
      "name": "Untitled2.ipynb",
      "provenance": [],
      "collapsed_sections": [],
      "authorship_tag": "ABX9TyPk2EdAB6PU+ONSCFD3/2BG",
      "include_colab_link": true
    },
    "kernelspec": {
      "name": "python3",
      "display_name": "Python 3"
    },
    "language_info": {
      "name": "python"
    }
  },
  "cells": [
    {
      "cell_type": "markdown",
      "metadata": {
        "id": "view-in-github",
        "colab_type": "text"
      },
      "source": [
        "<a href=\"https://colab.research.google.com/github/sowmR/Python_ArraysStrings/blob/main/NumberDecoding.ipynb\" target=\"_parent\"><img src=\"https://colab.research.google.com/assets/colab-badge.svg\" alt=\"Open In Colab\"/></a>"
      ]
    },
    {
      "cell_type": "markdown",
      "source": [
        "# String: count possible decoding of a given digit sequence\n",
        "\n",
        "Let 1 represent ‘A’, 2 represents ‘B’, etc. Given a digit sequence, count the number of possible decodings of the given digit sequence.\n",
        "\n",
        "example-1 : input =\"121\" =>\n",
        "output = 3\n",
        "\n",
        "possible decodings are \"ABC\" (1,2,3),\"AU\" (1,21),\"LA\" (12,1)\n",
        "\n",
        "Input constraints:\n",
        "\n",
        "An empty digit sequence is considered to have one decoding. It may be assumed that the input contains valid digits from 0 to 9 and there are no leading 0’s, no extra trailing 0’s, and no two or more consecutive 0’s"
      ],
      "metadata": {
        "id": "oo4UkOFtD-6i"
      }
    },
    {
      "cell_type": "code",
      "source": [
        "def getSubSet(s,n):\n",
        "  # print(n,s)\n",
        "  result = []\n",
        "  for i in range(0,len(s)-n+1):\n",
        "      tmp =s[i:i+(n)]\n",
        "      print(tmp)\n",
        "      if int(tmp)<=26:\n",
        "        result.append(s[i:i+n])\n",
        "  return result\n",
        "\n",
        "def decodeSequence(numberSeq=[]):\n",
        "  letters = ['A','B','C','D','E','F','G','H','I','J','K','L','M','N','O','P','Q','R','S','T','U','V','W','X','Y','Z']\n",
        "  N = len(numberSeq)\n",
        "  results = []\n",
        "  for i in range(N):\n",
        "    results.append(letters[i])\n",
        "  return ('').join(results)\n",
        "\n",
        "code = \"123412\"\n",
        "# print(list(code))\n",
        "codelist = [int(i) for i in code]\n",
        "results = decodeSequence(codelist)\n",
        "possible_letters = getSubSet(code,1)\n",
        "print(possible_letters)\n",
        "\n",
        "\n"
      ],
      "metadata": {
        "colab": {
          "base_uri": "https://localhost:8080/"
        },
        "id": "YMN_YQeDzbic",
        "outputId": "d9f08d9e-571d-4ff1-acb3-01415b36d5b3"
      },
      "execution_count": 89,
      "outputs": [
        {
          "output_type": "stream",
          "name": "stdout",
          "text": [
            "1\n",
            "2\n",
            "3\n",
            "4\n",
            "1\n",
            "2\n",
            "['1', '2', '3', '4', '1', '2']\n"
          ]
        }
      ]
    },
    {
      "cell_type": "code",
      "source": [
        "\n",
        "# Recursive implementation of numDecodings\n",
        " \n",
        "def countDecoding(s: str, n: int) -> int:\n",
        "    if n == 0 or n == 1:\n",
        "        return 1\n",
        "    count = 0\n",
        "    if s[n-1] > \"0\":\n",
        "        count = countDecoding(s, n-1)\n",
        "    if (s[n - 2] == '1'\n",
        "        or (s[n - 2] == '2'\n",
        "            and s[n - 1] < '7')):\n",
        "        count += countDecoding(s, n - 2)\n",
        "    return count\n",
        "\n",
        "code = \"123412\"\n",
        "result = 0\n",
        "if len(code)>0 or (len(code)==1 and code[0]!='0'):\n",
        "  result = countDecoding(code, len(code))\n",
        "print(result)"
      ],
      "metadata": {
        "colab": {
          "base_uri": "https://localhost:8080/"
        },
        "id": "Wd66hqUcXLka",
        "outputId": "718350fc-e1f9-4e0f-ead0-3679eba121d5"
      },
      "execution_count": 90,
      "outputs": [
        {
          "output_type": "stream",
          "name": "stdout",
          "text": [
            "6\n"
          ]
        }
      ]
    },
    {
      "cell_type": "code",
      "source": [
        "\n",
        "# A Dynamic Programming based Python3\n",
        "# implementation to count decodings\n",
        " \n",
        "# A Dynamic Programming based function\n",
        "# to count decodings\n",
        "def countDecodingDP(digits, n):\n",
        " \n",
        "    count = [0] * (n + 1); # A table to store\n",
        "                           # results of subproblems\n",
        "    count[0] = 1;\n",
        "    count[1] = 1;\n",
        " \n",
        "    for i in range(2, n + 1):\n",
        " \n",
        "        count[i] = 0;\n",
        " \n",
        "        # If the last digit is not 0, then last\n",
        "        # digit must add to the number of words\n",
        "        if (digits[i - 1] > '0'):\n",
        "            count[i] = count[i - 1];\n",
        " \n",
        "        # If second last digit is smaller than 2\n",
        "        # and last digit is smaller than 7, then\n",
        "        # last two digits form a valid character\n",
        "        if (digits[i - 2] == '1' or\n",
        "           (digits[i - 2] == '2' and\n",
        "            digits[i - 1] < '7') ):\n",
        "            count[i] += count[i - 2];\n",
        " \n",
        "    return count[n];\n",
        "\n",
        "code = \"123412\"\n",
        "print(countDecodingDP(code,len(code)))"
      ],
      "metadata": {
        "colab": {
          "base_uri": "https://localhost:8080/"
        },
        "id": "3KTPytze9k5Z",
        "outputId": "77ec383e-53e2-41ae-9437-58dda0936c14"
      },
      "execution_count": 88,
      "outputs": [
        {
          "output_type": "stream",
          "name": "stdout",
          "text": [
            "6\n"
          ]
        }
      ]
    },
    {
      "cell_type": "code",
      "source": [
        ""
      ],
      "metadata": {
        "id": "V8Dbihp3YDJb"
      },
      "execution_count": null,
      "outputs": []
    }
  ]
}